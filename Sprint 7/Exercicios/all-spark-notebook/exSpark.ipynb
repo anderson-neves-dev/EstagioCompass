{
 "cells": [
  {
   "cell_type": "markdown",
   "id": "fbf56f86-bae4-4959-b823-8eb15cb3950b",
   "metadata": {},
   "source": [
    "# Importando as bibliotecas"
   ]
  },
  {
   "cell_type": "code",
   "execution_count": 81,
   "id": "2d086837-c018-4c5a-8187-c9a96fda39d6",
   "metadata": {},
   "outputs": [],
   "source": [
    "from pyspark.sql import SparkSession\n",
    "import matplotlib.pyplot as plt"
   ]
  },
  {
   "cell_type": "markdown",
   "id": "7194dc7f-aee9-42f1-864a-221376b528c8",
   "metadata": {},
   "source": [
    "# Criando a SparkSession"
   ]
  },
  {
   "cell_type": "code",
   "execution_count": 82,
   "id": "5454c31c-e999-4635-84de-a5c717bb4be9",
   "metadata": {},
   "outputs": [],
   "source": [
    "spark = SparkSession.builder.appName(\"ContadorDePalavrasReadmeJupyter\").getOrCreate()"
   ]
  },
  {
   "cell_type": "markdown",
   "id": "fe4b8bef-2f84-49b1-8e8d-7046f7fa1b08",
   "metadata": {},
   "source": [
    "# Lendo o arquivo Parquet exportando no terminal e o transformando em um data frame novamente"
   ]
  },
  {
   "cell_type": "code",
   "execution_count": 83,
   "id": "b111e968-eaa4-417f-97f2-1a662e75bdb5",
   "metadata": {},
   "outputs": [],
   "source": [
    "palavras_df = spark.read.parquet(\"/home/jovyan/palavras_ordenadas_df.parquet\")"
   ]
  },
  {
   "cell_type": "markdown",
   "id": "30006657-dbdf-4564-83a2-7ec45701c154",
   "metadata": {},
   "source": [
    "# Ordenando o DataFrame do maior para o menor valor pela coluna \"Quantidade\""
   ]
  },
  {
   "cell_type": "code",
   "execution_count": 84,
   "id": "eb36f864-3e06-4b50-97a4-1f05d7e544ed",
   "metadata": {},
   "outputs": [],
   "source": [
    "palavras_ordenadas_df = df.orderBy(df[\"Quantidade\"].desc())"
   ]
  },
  {
   "cell_type": "markdown",
   "id": "b1f7b2d1-ae82-4b46-b1d8-c77da64f1153",
   "metadata": {},
   "source": [
    "# Exibindo o DataFrame ordenado"
   ]
  },
  {
   "cell_type": "code",
   "execution_count": 85,
   "id": "9c34e561-c385-48d9-aa41-5fd9dc26a847",
   "metadata": {},
   "outputs": [
    {
     "name": "stdout",
     "output_type": "stream",
     "text": [
      "DataFrame[Palavra: string, Quantidade: bigint]\n",
      "+---------------+----------+\n",
      "|Palavra        |Quantidade|\n",
      "+---------------+----------+\n",
      "|de             |30        |\n",
      "|e              |24        |\n",
      "|aws            |21        |\n",
      "|a              |13        |\n",
      "|builder        |12        |\n",
      "|skill          |12        |\n",
      "|para           |11        |\n",
      "|do             |9         |\n",
      "|sprint         |9         |\n",
      "|o              |8         |\n",
      "|dos            |8         |\n",
      "|média          |7         |\n",
      "|filmes         |7         |\n",
      "|com            |7         |\n",
      "|portuguese     |7         |\n",
      "|curso          |6         |\n",
      "|dados          |6         |\n",
      "|da             |5         |\n",
      "|uma            |5         |\n",
      "|guerra         |5         |\n",
      "|popularidade   |5         |\n",
      "|em             |5         |\n",
      "|gêneros        |5         |\n",
      "|crime          |5         |\n",
      "|amazon         |5         |\n",
      "|entre          |4         |\n",
      "|avaliação      |4         |\n",
      "|3              |4         |\n",
      "|getting        |4         |\n",
      "|started        |4         |\n",
      "|os             |4         |\n",
      "|sql            |4         |\n",
      "|2012           |4         |\n",
      "|2022           |4         |\n",
      "|4              |3         |\n",
      "|análise        |3         |\n",
      "|js             |3         |\n",
      "|python         |3         |\n",
      "|lançados       |3         |\n",
      "|github         |3         |\n",
      "|avançado       |3         |\n",
      "|partner        |3         |\n",
      "|cloud          |3         |\n",
      "|analytics      |3         |\n",
      "|linux          |3         |\n",
      "|como           |3         |\n",
      "|é              |3         |\n",
      "|que            |3         |\n",
      "|1              |3         |\n",
      "|2              |3         |\n",
      "|técnico        |2         |\n",
      "|pelo           |2         |\n",
      "|ifba           |2         |\n",
      "|sistemas       |2         |\n",
      "|vitória        |2         |\n",
      "|bahia          |2         |\n",
      "|sobre          |2         |\n",
      "|incluindo      |2         |\n",
      "|programação    |2         |\n",
      "|na             |2         |\n",
      "|end            |2         |\n",
      "|mongodb        |2         |\n",
      "|desafio        |2         |\n",
      "|analisar       |2         |\n",
      "|atores         |2         |\n",
      "|conhecidos     |2         |\n",
      "|qual           |2         |\n",
      "|orçamentos     |2         |\n",
      "|cada           |2         |\n",
      "|um             |2         |\n",
      "|desenvolvedores|2         |\n",
      "|terminal       |2         |\n",
      "|básico         |2         |\n",
      "|ao             |2         |\n",
      "|5              |2         |\n",
      "|practitioner   |2         |\n",
      "|6              |2         |\n",
      "|fundamentals   |2         |\n",
      "|of             |2         |\n",
      "|part           |2         |\n",
      "|with           |2         |\n",
      "|campus         |2         |\n",
      "|informação     |2         |\n",
      "|conquista      |2         |\n",
      "|node           |2         |\n",
      "|mysql          |2         |\n",
      "|tema           |2         |\n",
      "|final          |2         |\n",
      "|mais           |2         |\n",
      "|uso            |2         |\n",
      "|git            |2         |\n",
      "|accreditation  |2         |\n",
      "|docker         |2         |\n",
      "|on             |2         |\n",
      "|redshift       |2         |\n",
      "|sou            |1         |\n",
      "|neves          |1         |\n",
      "|diplomado      |1         |\n",
      "|semestre       |1         |\n",
      "|no             |1         |\n",
      "|residindo      |1         |\n",
      "|mim            |1         |\n",
      "|sólida         |1         |\n",
      "|conceitos      |1         |\n",
      "|banco          |1         |\n",
      "|redes          |1         |\n",
      "|computadores   |1         |\n",
      "|por            |1         |\n",
      "|casos          |1         |\n",
      "|power          |1         |\n",
      "|gerando        |1         |\n",
      "|relatórios     |1         |\n",
      "|partir         |1         |\n",
      "|base           |1         |\n",
      "|ministério     |1         |\n",
      "|saúde          |1         |\n",
      "|experiência    |1         |\n",
      "|freelancers    |1         |\n",
      "|back           |1         |\n",
      "|javascript     |1         |\n",
      "|typescript     |1         |\n",
      "|tailwind       |1         |\n",
      "|css            |1         |\n",
      "|components     |1         |\n",
      "|estudando      |1         |\n",
      "|relação        |1         |\n",
      "|as             |1         |\n",
      "|tendências     |1         |\n",
      "|orçamento      |1         |\n",
      "|10             |1         |\n",
      "|têm            |1         |\n",
      "|positiva       |1         |\n",
      "|acordo         |1         |\n",
      "|respectivos    |1         |\n",
      "|tiveram        |1         |\n",
      "|aumentou       |1         |\n",
      "|tendência      |1         |\n",
      "|durante        |1         |\n",
      "|sprints        |1         |\n",
      "|201            |1         |\n",
      "|prático        |1         |\n",
      "|ensina         |1         |\n",
      "|shell          |1         |\n",
      "|apache         |1         |\n",
      "|abrange        |1         |\n",
      "|básicos        |1         |\n",
      "|criação        |1         |\n",
      "|diretórios     |1         |\n",
      "|instalação     |1         |\n",
      "|atualização    |1         |\n",
      "|aprenda        |1         |\n",
      "|fundamentos    |1         |\n",
      "|controle       |1         |\n",
      "|até            |1         |\n",
      "|gists          |1         |\n",
      "|202            |1         |\n",
      "|focado         |1         |\n",
      "|usar           |1         |\n",
      "|extrair        |1         |\n",
      "|manipular      |1         |\n",
      "|business       |1         |\n",
      "|completo       |1         |\n",
      "|economiza      |1         |\n",
      "|funcional      |1         |\n",
      "|alura          |1         |\n",
      "|swarm          |1         |\n",
      "|technical      |1         |\n",
      "|estatística    |1         |\n",
      "|sprint5        |1         |\n",
      "|padrão         |1         |\n",
      "|preparação     |1         |\n",
      "|clf            |1         |\n",
      "|brasil         |1         |\n",
      "|sprint6        |1         |\n",
      "|serveless      |1         |\n",
      "|introduction   |1         |\n",
      "|to             |1         |\n",
      "|athena         |1         |\n",
      "|glue           |1         |\n",
      "|best           |1         |\n",
      "|practices      |1         |\n",
      "|for            |1         |\n",
      "|quicksight     |1         |\n",
      "|olá            |1         |\n",
      "|anderson       |1         |\n",
      "|informática    |1         |\n",
      "|brumado        |1         |\n",
      "|cursando       |1         |\n",
      "|bacharelado    |1         |\n",
      "|tenho          |1         |\n",
      "|compreensão    |1         |\n",
      "|tecnologia     |1         |\n",
      "|operacionais   |1         |\n",
      "|desenvolvimento|1         |\n",
      "|software       |1         |\n",
      "|conclusão      |1         |\n",
      "|meu            |1         |\n",
      "|optei          |1         |\n",
      "|fazer          |1         |\n",
      "|pesquisa       |1         |\n",
      "|suicídio       |1         |\n",
      "|utilizando     |1         |\n",
      "|ferramenta     |1         |\n",
      "|bi             |1         |\n",
      "|preparar       |1         |\n",
      "|manusear       |1         |\n",
      "|informações    |1         |\n",
      "|fornecida      |1         |\n",
      "|nestjs         |1         |\n",
      "|front          |1         |\n",
      "|react          |1         |\n",
      "|styled         |1         |\n",
      "|atualmente     |1         |\n",
      "|escolhi        |1         |\n",
      "|foco           |1         |\n",
      "|entender       |1         |\n",
      "|maiores        |1         |\n",
      "|analisados     |1         |\n",
      "|aceitação      |1         |\n",
      "|geral          |1         |\n",
      "|seus           |1         |\n",
      "|títulos        |1         |\n",
      "|desses         |1         |\n",
      "|seguiu         |1         |\n",
      "|similar        |1         |\n",
      "|mesmo          |1         |\n",
      "|período        |1         |\n",
      "|ferramentas    |1         |\n",
      "|essenciais     |1         |\n",
      "|comandos       |1         |\n",
      "|navegação      |1         |\n",
      "|renomeação     |1         |\n",
      "|arquivos       |1         |\n",
      "|pacotes        |1         |\n",
      "|desde          |1         |\n",
      "|versão         |1         |\n",
      "|pages          |1         |\n",
      "|bancos         |1         |\n",
      "|sales          |1         |\n",
      "|203            |1         |\n",
      "|nuvem          |1         |\n",
      "|sprint4        |1         |\n",
      "|kubernetes     |1         |\n",
      "|descritiva     |1         |\n",
      "|wuestt         |1         |\n",
      "|exame          |1         |\n",
      "|certified      |1         |\n",
      "|c02            |1         |\n",
      "|português      |1         |\n",
      "|emr            |1         |\n",
      "|data           |1         |\n",
      "|warehousing    |1         |\n",
      "+---------------+----------+\n",
      "\n"
     ]
    }
   ],
   "source": [
    "print(palavras_ordenadas_df)\n",
    "palavras_ordenadas_df.show(palavras_ordenadas_df.count(), truncate=False)\n"
   ]
  },
  {
   "cell_type": "markdown",
   "id": "ba4e5968-29a9-4fe1-affa-2b816a7a3447",
   "metadata": {},
   "source": [
    "# Função para plotar gráfico na horizontal"
   ]
  },
  {
   "cell_type": "code",
   "execution_count": 86,
   "id": "a3c6d68b-f9b5-4839-a39d-b1c1eef69987",
   "metadata": {},
   "outputs": [],
   "source": [
    "def criar_grafico_horizontal(palavras):\n",
    "    palavras_dicionario = dict(palavras)\n",
    "    palavra, quantidade = zip(*sorted(zip(palavras_dicionario.values(), [str(i) for i in palavras_dicionario.keys()])))\n",
    "    plt.barh(quantidade, palavra, color='#33ccff')\n",
    "    plt.xlabel('Quantidade')\n",
    "    plt.ylabel('Palavras')\n",
    "    plt.title('Top palavras do meu README com quantidade acima de 4')\n",
    "    plt.show()\n"
   ]
  },
  {
   "cell_type": "markdown",
   "id": "5a435019-85c2-49e1-9dc8-b8402da71f6a",
   "metadata": {},
   "source": [
    "# Convertendo o DataFrame para RDD e filtrando apenas a quantidade de palavras maiores que 4"
   ]
  },
  {
   "cell_type": "code",
   "execution_count": 87,
   "id": "9ba79afb-df53-494a-8544-2aae086eec1d",
   "metadata": {},
   "outputs": [],
   "source": [
    "palavras_ordenadas_rdd = palavras_ordenadas_df.rdd\n",
    "palavras_ordenadas_rdd = palavras_ordenadas_rdd.filter(lambda quantidade: quantidade[1] > 4 )"
   ]
  },
  {
   "cell_type": "markdown",
   "id": "da98b62f-a3e1-400d-b2aa-b6250c25184c",
   "metadata": {},
   "source": [
    "# Mapeando as linhas do RDD para tuplas (Palavra, Quantidade), coleta o rdd como uma lista e chama a função para criar gráfico com a lista na horizontal"
   ]
  },
  {
   "cell_type": "code",
   "execution_count": 80,
   "id": "dac4bcaf-d62d-437a-884a-7ad02e4300a6",
   "metadata": {},
   "outputs": [
    {
     "data": {
      "image/png": "[encoded data removed]",
      "text/plain": [
       "<Figure size 640x480 with 1 Axes>"
      ]
     },
     "metadata": {},
     "output_type": "display_data"
    }
   ],
   "source": [
    "palavras_ordenadas_mapeamento_rdd = palavras_ordenadas_rdd.map(lambda linha: (linha[\"Palavra\"], linha[\"Quantidade\"]))\n",
    "\n",
    "lista_palavras = palavras_ordenadas_mapeamento_rdd.collect()\n",
    "\n",
    "criar_grafico_horizontal(lista_palavras)\n"
   ]
  }
 ],
 "metadata": {
  "kernelspec": {
   "display_name": "Python 3 (ipykernel)",
   "language": "python",
   "name": "python3"
  },
  "language_info": {
   "codemirror_mode": {
    "name": "ipython",
    "version": 3
   },
   "file_extension": ".py",
   "mimetype": "text/x-python",
   "name": "python",
   "nbconvert_exporter": "python",
   "pygments_lexer": "ipython3",
   "version": "3.11.6"
  }
 },
 "nbformat": 4,
 "nbformat_minor": 5
}
